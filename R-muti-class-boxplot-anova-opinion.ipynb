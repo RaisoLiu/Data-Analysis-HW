{
 "cells": [
  {
   "cell_type": "code",
   "execution_count": 1,
   "metadata": {},
   "outputs": [
    {
     "data": {
      "text/html": [
       "<table>\n",
       "<thead><tr><th></th><th scope=col>Df</th><th scope=col>Sum Sq</th><th scope=col>Mean Sq</th><th scope=col>F value</th><th scope=col>Pr(&gt;F)</th></tr></thead>\n",
       "<tbody>\n",
       "\t<tr><th scope=row>G</th><td> 3          </td><td>2794.389    </td><td>931.46292   </td><td>43.98875    </td><td>3.973108e-12</td></tr>\n",
       "\t<tr><th scope=row>Residuals</th><td>36          </td><td> 762.301    </td><td> 21.17503   </td><td>      NA    </td><td>          NA</td></tr>\n",
       "</tbody>\n",
       "</table>\n"
      ],
      "text/latex": [
       "\\begin{tabular}{r|lllll}\n",
       "  & Df & Sum Sq & Mean Sq & F value & Pr(>F)\\\\\n",
       "\\hline\n",
       "\tG &  3           & 2794.389     & 931.46292    & 43.98875     & 3.973108e-12\\\\\n",
       "\tResiduals & 36           &  762.301     &  21.17503    &       NA     &           NA\\\\\n",
       "\\end{tabular}\n"
      ],
      "text/markdown": [
       "\n",
       "| <!--/--> | Df | Sum Sq | Mean Sq | F value | Pr(>F) |\n",
       "|---|---|---|---|---|---|\n",
       "| G |  3           | 2794.389     | 931.46292    | 43.98875     | 3.973108e-12 |\n",
       "| Residuals | 36           |  762.301     |  21.17503    |       NA     |           NA |\n",
       "\n"
      ],
      "text/plain": [
       "          Df Sum Sq   Mean Sq   F value  Pr(>F)      \n",
       "G          3 2794.389 931.46292 43.98875 3.973108e-12\n",
       "Residuals 36  762.301  21.17503       NA           NA"
      ]
     },
     "metadata": {},
     "output_type": "display_data"
    },
    {
     "data": {
      "text/plain": [
       "  Tukey multiple comparisons of means\n",
       "    95% family-wise confidence level\n",
       "\n",
       "Fit: aov(formula = S ~ G, data = D1)\n",
       "\n",
       "$G\n",
       "      diff        lwr        upr     p adj\n",
       "B-A  10.28   4.737573  15.822427 0.0000869\n",
       "C-A  19.17  13.627573  24.712427 0.0000000\n",
       "D-A  -1.46  -7.002427   4.082427 0.8926914\n",
       "C-B   8.89   3.347573  14.432427 0.0006522\n",
       "D-B -11.74 -17.282427  -6.197573 0.0000100\n",
       "D-C -20.63 -26.172427 -15.087573 0.0000000\n"
      ]
     },
     "metadata": {},
     "output_type": "display_data"
    },
    {
     "data": {
      "image/png": "[encoded data removed]",
      "text/plain": [
       "plot without title"
      ]
     },
     "metadata": {},
     "output_type": "display_data"
    }
   ],
   "source": [
    "data = read.table(\"anova4.csv\", header = TRUE, sep = \",\")\n",
    "G=data$group\n",
    "S=data$score\n",
    "D1 = data.frame(S, G)\n",
    "\n",
    "anova(lm(S ~ G, D1))\n",
    "plot(D1$S~D1$G)\n",
    "# p-value(3.973108e-12) < 0.05，支持假說Ha (有兩組或以上資料平均有差異)\n",
    "TukeyHSD(aov(S ~ G, data=D1)) \n",
    "# 從 TukeyHSD 的結果中我們得知，D與A這兩組平均支持假說 Ho(平均不存在差異)，p-value(0.8926914) > 0.05。\n",
    "# 其餘組別倆倆的平均則支持假說 Ha(平均存在差異)\n",
    "# 從 box plot 中也可以支持這個論點。 "
   ]
  },
  {
   "cell_type": "code",
   "execution_count": null,
   "metadata": {},
   "outputs": [],
   "source": []
  }
 ],
 "metadata": {
  "kernelspec": {
   "display_name": "R",
   "language": "R",
   "name": "ir"
  },
  "language_info": {
   "codemirror_mode": "r",
   "file_extension": ".r",
   "mimetype": "text/x-r-source",
   "name": "R",
   "pygments_lexer": "r",
   "version": "3.5.1"
  }
 },
 "nbformat": 4,
 "nbformat_minor": 2
}
